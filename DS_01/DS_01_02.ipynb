{
 "cells": [
  {
   "cell_type": "markdown",
   "metadata": {},
   "source": [
    "# Chapter 1 - Data Munging Basics\n",
    "## Segment 1 - Handling Missing Value"
   ]
  },
  {
   "cell_type": "code",
   "execution_count": 41,
   "metadata": {},
   "outputs": [],
   "source": [
    "import numpy as np\n",
    "import pandas as pd \n",
    "\n",
    "from pandas import Series, DataFrame"
   ]
  },
  {
   "cell_type": "code",
   "execution_count": 42,
   "metadata": {},
   "outputs": [
    {
     "name": "stdout",
     "output_type": "stream",
     "text": [
      "0    row_1\n",
      "1    row_2\n",
      "2      NaN\n",
      "3    row_3\n",
      "4      NaN\n",
      "5    row_5\n",
      "dtype: object \n",
      "\n",
      "0    False\n",
      "1    False\n",
      "2     True\n",
      "3    False\n",
      "4     True\n",
      "5    False\n",
      "dtype: bool\n"
     ]
    }
   ],
   "source": [
    "na=np.nan\n",
    "series_obj=Series(['row_1','row_2',na,'row_3',na,'row_5'])\n",
    "print(series_obj,\"\\n\")\n",
    "print(series_obj.isnull())"
   ]
  },
  {
   "cell_type": "code",
   "execution_count": 43,
   "metadata": {},
   "outputs": [
    {
     "data": {
      "text/html": [
       "<div>\n",
       "<style scoped>\n",
       "    .dataframe tbody tr th:only-of-type {\n",
       "        vertical-align: middle;\n",
       "    }\n",
       "\n",
       "    .dataframe tbody tr th {\n",
       "        vertical-align: top;\n",
       "    }\n",
       "\n",
       "    .dataframe thead th {\n",
       "        text-align: right;\n",
       "    }\n",
       "</style>\n",
       "<table border=\"1\" class=\"dataframe\">\n",
       "  <thead>\n",
       "    <tr style=\"text-align: right;\">\n",
       "      <th></th>\n",
       "      <th>0</th>\n",
       "      <th>1</th>\n",
       "      <th>2</th>\n",
       "      <th>3</th>\n",
       "      <th>4</th>\n",
       "    </tr>\n",
       "  </thead>\n",
       "  <tbody>\n",
       "    <tr>\n",
       "      <th>0</th>\n",
       "      <td>0.588131</td>\n",
       "      <td>0.897714</td>\n",
       "      <td>0.891531</td>\n",
       "      <td>0.815837</td>\n",
       "      <td>0.035890</td>\n",
       "    </tr>\n",
       "    <tr>\n",
       "      <th>1</th>\n",
       "      <td>0.691758</td>\n",
       "      <td>0.378681</td>\n",
       "      <td>0.518511</td>\n",
       "      <td>0.657951</td>\n",
       "      <td>0.193850</td>\n",
       "    </tr>\n",
       "    <tr>\n",
       "      <th>2</th>\n",
       "      <td>0.272316</td>\n",
       "      <td>0.718606</td>\n",
       "      <td>0.783004</td>\n",
       "      <td>0.850328</td>\n",
       "      <td>0.775245</td>\n",
       "    </tr>\n",
       "    <tr>\n",
       "      <th>3</th>\n",
       "      <td>0.036664</td>\n",
       "      <td>0.116694</td>\n",
       "      <td>0.751281</td>\n",
       "      <td>0.239218</td>\n",
       "      <td>0.254806</td>\n",
       "    </tr>\n",
       "  </tbody>\n",
       "</table>\n",
       "</div>"
      ],
      "text/plain": [
       "          0         1         2         3         4\n",
       "0  0.588131  0.897714  0.891531  0.815837  0.035890\n",
       "1  0.691758  0.378681  0.518511  0.657951  0.193850\n",
       "2  0.272316  0.718606  0.783004  0.850328  0.775245\n",
       "3  0.036664  0.116694  0.751281  0.239218  0.254806"
      ]
     },
     "execution_count": 43,
     "metadata": {},
     "output_type": "execute_result"
    }
   ],
   "source": [
    "np.random.seed(20)\n",
    "df_obj=DataFrame(np.random.rand(20).reshape(4,5))\n",
    "df_obj"
   ]
  },
  {
   "cell_type": "code",
   "execution_count": 18,
   "metadata": {},
   "outputs": [
    {
     "name": "stdout",
     "output_type": "stream",
     "text": [
      "          0         1         2         3         4\n",
      "0  0.588131  0.897714  0.891531  0.815837  0.035890\n",
      "1  0.691758  0.378681  0.518511  0.657951  0.193850\n",
      "2  0.272316       NaN       NaN  0.850328  0.775245\n",
      "3  0.036664       NaN       NaN  0.239218  0.254806\n"
     ]
    }
   ],
   "source": [
    "df_obj.iloc[[2,3],[1,2]]=na\n",
    "print(df_obj)"
   ]
  },
  {
   "cell_type": "code",
   "execution_count": 44,
   "metadata": {},
   "outputs": [
    {
     "name": "stdout",
     "output_type": "stream",
     "text": [
      "          0         1         2         3         4\n",
      "0  0.588131  0.897714  0.891531  0.815837  0.035890\n",
      "1  0.691758  0.378681  0.518511  0.657951  0.193850\n",
      "2  0.272316  0.718606  0.783004  0.850328  0.775245\n",
      "3  0.036664  0.116694  0.751281  0.239218  0.254806\n",
      "          0         1         2         3         4\n",
      "0  0.588131  0.897714  0.891531  0.815837  0.035890\n",
      "1  0.691758  0.378681  0.518511  0.657951  0.193850\n",
      "2  0.272316  0.718606  0.783004  0.850328  0.775245\n",
      "3  0.036664  0.116694  0.751281  0.239218  0.254806\n"
     ]
    }
   ],
   "source": [
    "fill_df=df_obj.fillna(0)\n",
    "print(fill_df)\n",
    "\n",
    "# missing values with values from the last non-null element in the column Series.\n",
    "fill_df = df_obj.fillna(method='ffill')\n",
    "print(fill_df)"
   ]
  },
  {
   "cell_type": "markdown",
   "metadata": {},
   "source": [
    "### Counting missing values"
   ]
  },
  {
   "cell_type": "code",
   "execution_count": 47,
   "metadata": {},
   "outputs": [
    {
     "name": "stdout",
     "output_type": "stream",
     "text": [
      "          0         1   2         3         4\n",
      "0  0.588131  0.897714 NaN  0.815837  0.035890\n",
      "1  0.691758  0.378681 NaN  0.657951  0.193850\n",
      "2  0.272316  0.718606 NaN  0.850328  0.775245\n",
      "3  0.036664  0.116694 NaN  0.239218  0.254806\n",
      "          0         1   2         3         4\n",
      "0  0.588131  0.897714 NaN  0.815837  0.035890\n",
      "1  0.691758  0.378681 NaN  0.657951  0.193850\n",
      "2  0.272316  0.718606 NaN  0.850328  0.775245\n",
      "3  0.036664  0.116694 NaN  0.239218  0.254806\n",
      "sum of NaN 0    0\n",
      "1    0\n",
      "2    4\n",
      "3    0\n",
      "4    0\n",
      "dtype: int64\n"
     ]
    }
   ],
   "source": [
    "print(df_obj)\n",
    "df_obj.iloc[0:4,2:3]=na\n",
    "print(df_obj)\n",
    "print(\"sum of NaN\",df_obj.isnull().sum())"
   ]
  },
  {
   "cell_type": "code",
   "execution_count": 50,
   "metadata": {},
   "outputs": [
    {
     "name": "stdout",
     "output_type": "stream",
     "text": [
      "          0         1         3         4\n",
      "0  0.588131  0.897714  0.815837  0.035890\n",
      "1  0.691758  0.378681  0.657951  0.193850\n",
      "2  0.272316  0.718606  0.850328  0.775245\n",
      "3  0.036664  0.116694  0.239218  0.254806 \n",
      "\n",
      "          0         1   2         3         4\n",
      "0  0.588131  0.897714 NaN  0.815837  0.035890\n",
      "1  0.691758  0.378681 NaN  0.657951  0.193850\n",
      "2  0.272316  0.718606 NaN  0.850328  0.775245\n",
      "3  0.036664  0.116694 NaN  0.239218  0.254806\n"
     ]
    }
   ],
   "source": [
    "df_no_NaN = df_obj.dropna(axis=1)\n",
    "print(df_no_NaN,\"\\n\")\n",
    "print(df_obj.dropna(how='all'))"
   ]
  }
 ],
 "metadata": {
  "kernelspec": {
   "display_name": "Python 3",
   "language": "python",
   "name": "python3"
  },
  "language_info": {
   "codemirror_mode": {
    "name": "ipython",
    "version": 3
   },
   "file_extension": ".py",
   "mimetype": "text/x-python",
   "name": "python",
   "nbconvert_exporter": "python",
   "pygments_lexer": "ipython3",
   "version": "3.6.3"
  }
 },
 "nbformat": 4,
 "nbformat_minor": 2
}
