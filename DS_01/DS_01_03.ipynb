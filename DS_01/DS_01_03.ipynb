{
 "cells": [
  {
   "cell_type": "markdown",
   "metadata": {},
   "source": [
    "# Chapter 1 - Data Munging Basics\n",
    "## Segment 3 - Removing duplicates"
   ]
  },
  {
   "cell_type": "code",
   "execution_count": 1,
   "metadata": {},
   "outputs": [],
   "source": [
    "import numpy as np\n",
    "import pandas as pd\n",
    "\n",
    "from pandas import Series, DataFrame"
   ]
  },
  {
   "cell_type": "code",
   "execution_count": 17,
   "metadata": {},
   "outputs": [
    {
     "name": "stdout",
     "output_type": "stream",
     "text": [
      "  column 1 column 2 column 3\n",
      "0        k        a        A\n",
      "1        k        a        A\n",
      "2        k        b        B\n",
      "3        l        b        B\n",
      "4        l        c        C\n",
      "5        l        c        C\n",
      "6        l        c        C \n",
      "\n",
      "Duplicate Records-\n",
      " 0    False\n",
      "1     True\n",
      "2    False\n",
      "3    False\n",
      "4    False\n",
      "5     True\n",
      "6     True\n",
      "dtype: bool\n",
      "\n",
      "Drop Duplicate Records-\n",
      "   column 1 column 2 column 3\n",
      "0        k        a        A\n",
      "2        k        b        B\n",
      "3        l        b        B\n",
      "4        l        c        C\n",
      "\n",
      "Drop Duplicate from coloumn-\n",
      "   column 1 column 2 column 3\n",
      "0        k        a        A\n",
      "2        k        b        B\n",
      "4        l        c        C\n"
     ]
    }
   ],
   "source": [
    "df_obj = DataFrame({'column 1': ['k', 'k', 'k', 'l', 'l', 'l', 'l'],\n",
    "                  'column 2': ['a', 'a', 'b', 'b', 'c', 'c', 'c'],\n",
    "                  'column 3': ['A', 'A', 'B', 'B', 'C', 'C', 'C']})\n",
    "print(df_obj,\"\\n\")\n",
    "print(\"Duplicate Records-\\n\",df_obj.duplicated())\n",
    "print(\"\\nDrop Duplicate Records-\\n\",df_obj.drop_duplicates())\n",
    "print(\"\\nDrop Duplicate from coloumn-\\n\",df_obj.drop_duplicates(['column 3']))"
   ]
  }
 ],
 "metadata": {
  "kernelspec": {
   "display_name": "Python 3",
   "language": "python",
   "name": "python3"
  },
  "language_info": {
   "codemirror_mode": {
    "name": "ipython",
    "version": 3
   },
   "file_extension": ".py",
   "mimetype": "text/x-python",
   "name": "python",
   "nbconvert_exporter": "python",
   "pygments_lexer": "ipython3",
   "version": "3.6.3"
  }
 },
 "nbformat": 4,
 "nbformat_minor": 2
}
