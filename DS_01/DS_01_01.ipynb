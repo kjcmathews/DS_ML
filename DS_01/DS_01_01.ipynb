{
 "cells": [
  {
   "cell_type": "markdown",
   "metadata": {},
   "source": [
    "# Chapter 1 - Data Munging Basics\n",
    "## Segment 1 - Filtering and selecting data"
   ]
  },
  {
   "cell_type": "code",
   "execution_count": 8,
   "metadata": {},
   "outputs": [],
   "source": [
    "import numpy as np\n",
    "import pandas as pd\n",
    "from pandas import Series,DataFrame"
   ]
  },
  {
   "cell_type": "code",
   "execution_count": 36,
   "metadata": {},
   "outputs": [
    {
     "name": "stdout",
     "output_type": "stream",
     "text": [
      "row 1    0\n",
      "row 2    1\n",
      "row 3    2\n",
      "row 4    3\n",
      "row 5    4\n",
      "row 6    5\n",
      "row 7    6\n",
      "row 8    7\n",
      "dtype: int32 \n",
      "\n",
      "row7 =>  6 \n",
      "\n",
      "6,7 =>  row 7    6\n",
      "row 8    7\n",
      "dtype: int32\n"
     ]
    }
   ],
   "source": [
    "series_obj = Series(np.arange(8), index=['row 1', 'row 2','row 3','row 4','row 5', 'row 6', 'row 7', 'row 8'])\n",
    "print(series_obj,\"\\n\")\n",
    "print(\"row7 => \",series_obj['row 7'],\"\\n\")\n",
    "print(\"6,7 => \",series_obj[[6,7]])\n"
   ]
  },
  {
   "cell_type": "code",
   "execution_count": 57,
   "metadata": {},
   "outputs": [
    {
     "name": "stdout",
     "output_type": "stream",
     "text": [
      "       column_1  column_2  column_3  column_4  column_5\n",
      "row_1  0.369270  0.680735  0.982592  0.558586  0.288835\n",
      "row_2  0.571616  0.566247  0.788920  0.918660  0.338326\n",
      "row_3  0.368271  0.447809  0.040961  0.755635  0.274323\n",
      "row_4  0.634032  0.905470  0.058023  0.102151  0.328519 \n",
      "\n",
      "       column_1\n",
      "row_2  0.571616 \n",
      "\n",
      "       column_2  column_3\n",
      "row_3  0.447809  0.040961\n",
      "row_4  0.905470  0.058023\n"
     ]
    }
   ],
   "source": [
    "dfObject=DataFrame(np.random.rand(20).reshape(4,5),\n",
    "                   index=['row_1','row_2','row_3','row_4'],\n",
    "                   columns=['column_1', 'column_2', 'column_3', 'column_4', 'column_5'])\n",
    "print(dfObject,\"\\n\")\n",
    "print(dfObject.loc[['row_2'],['column_1']],\"\\n\")\n",
    "print(dfObject.iloc[[2,3],[1,2]])"
   ]
  },
  {
   "cell_type": "code",
   "execution_count": 62,
   "metadata": {},
   "outputs": [
    {
     "data": {
      "text/plain": [
       "row 3    2\n",
       "row 4    3\n",
       "dtype: int32"
      ]
     },
     "execution_count": 62,
     "metadata": {},
     "output_type": "execute_result"
    }
   ],
   "source": [
    "### Data Slice\n",
    "series_obj[2:4]"
   ]
  },
  {
   "cell_type": "code",
   "execution_count": 64,
   "metadata": {},
   "outputs": [
    {
     "data": {
      "text/html": [
       "<div>\n",
       "<style scoped>\n",
       "    .dataframe tbody tr th:only-of-type {\n",
       "        vertical-align: middle;\n",
       "    }\n",
       "\n",
       "    .dataframe tbody tr th {\n",
       "        vertical-align: top;\n",
       "    }\n",
       "\n",
       "    .dataframe thead th {\n",
       "        text-align: right;\n",
       "    }\n",
       "</style>\n",
       "<table border=\"1\" class=\"dataframe\">\n",
       "  <thead>\n",
       "    <tr style=\"text-align: right;\">\n",
       "      <th></th>\n",
       "      <th>column_1</th>\n",
       "      <th>column_2</th>\n",
       "      <th>column_3</th>\n",
       "      <th>column_4</th>\n",
       "      <th>column_5</th>\n",
       "    </tr>\n",
       "  </thead>\n",
       "  <tbody>\n",
       "    <tr>\n",
       "      <th>row_1</th>\n",
       "      <td>False</td>\n",
       "      <td>False</td>\n",
       "      <td>False</td>\n",
       "      <td>False</td>\n",
       "      <td>False</td>\n",
       "    </tr>\n",
       "    <tr>\n",
       "      <th>row_2</th>\n",
       "      <td>False</td>\n",
       "      <td>False</td>\n",
       "      <td>False</td>\n",
       "      <td>False</td>\n",
       "      <td>False</td>\n",
       "    </tr>\n",
       "    <tr>\n",
       "      <th>row_3</th>\n",
       "      <td>False</td>\n",
       "      <td>False</td>\n",
       "      <td>True</td>\n",
       "      <td>False</td>\n",
       "      <td>False</td>\n",
       "    </tr>\n",
       "    <tr>\n",
       "      <th>row_4</th>\n",
       "      <td>False</td>\n",
       "      <td>False</td>\n",
       "      <td>True</td>\n",
       "      <td>True</td>\n",
       "      <td>False</td>\n",
       "    </tr>\n",
       "  </tbody>\n",
       "</table>\n",
       "</div>"
      ],
      "text/plain": [
       "       column_1  column_2  column_3  column_4  column_5\n",
       "row_1     False     False     False     False     False\n",
       "row_2     False     False     False     False     False\n",
       "row_3     False     False      True     False     False\n",
       "row_4     False     False      True      True     False"
      ]
     },
     "execution_count": 64,
     "metadata": {},
     "output_type": "execute_result"
    }
   ],
   "source": [
    "### Comparing with scalars\n",
    "dfObject< .2"
   ]
  },
  {
   "cell_type": "code",
   "execution_count": 71,
   "metadata": {},
   "outputs": [
    {
     "name": "stdout",
     "output_type": "stream",
     "text": [
      "row 6    5\n",
      "row 7    6\n",
      "row 8    7\n",
      "dtype: int32 \n",
      "\n",
      "       column_1  column_2  column_3  column_4  column_5\n",
      "row_1       NaN       NaN  0.982592       NaN       NaN\n",
      "row_2       NaN       NaN       NaN   0.91866       NaN\n",
      "row_3       NaN       NaN       NaN       NaN       NaN\n",
      "row_4       NaN   0.90547       NaN       NaN       NaN\n"
     ]
    }
   ],
   "source": [
    "### Filtering with scalars\n",
    "print(series_obj[series_obj>4],\"\\n\")\n",
    "print(dfObject[dfObject > .8])"
   ]
  },
  {
   "cell_type": "code",
   "execution_count": 82,
   "metadata": {},
   "outputs": [
    {
     "name": "stdout",
     "output_type": "stream",
     "text": [
      "row 1    8\n",
      "row 2    8\n",
      "row 3    2\n",
      "row 4    3\n",
      "row 5    4\n",
      "row 6    5\n",
      "row 7    6\n",
      "row 8    7\n",
      "dtype: int32\n",
      "after setting scaler value\n",
      "row 1    8\n",
      "row 2    8\n",
      "row 3    2\n",
      "row 4    3\n",
      "row 5    4\n",
      "row 6    5\n",
      "row 7    6\n",
      "row 8    7\n",
      "dtype: int32\n",
      "       column_1    column_2    column_3  column_4  column_5\n",
      "row_1  0.369270  200.000000  200.000000  0.558586  0.288835\n",
      "row_2  0.571616  200.000000  200.000000  0.918660  0.338326\n",
      "row_3  0.368271    0.447809    0.040961  0.755635  0.274323\n",
      "row_4  0.634032    0.905470    0.058023  0.102151  0.328519\n",
      "after setting scaler value\n",
      "       column_1  column_2  column_3  column_4  column_5\n",
      "row_1  0.369270  8.000000  8.000000  0.558586  0.288835\n",
      "row_2  0.571616  8.000000  8.000000  0.918660  0.338326\n",
      "row_3  0.368271  0.447809  0.040961  0.755635  0.274323\n",
      "row_4  0.634032  0.905470  0.058023  0.102151  0.328519\n"
     ]
    }
   ],
   "source": [
    "### Setting values with scalars\n",
    "print(series_obj)\n",
    "series_obj['row 1','row 2']=8\n",
    "print(\"after setting scaler value\")\n",
    "print(series_obj)\n",
    "\n",
    "print(dfObject)\n",
    "dfObject.loc[['row_1','row_2'],['column_2','column_3']]=8\n",
    "print(\"after setting scaler value\")\n",
    "print(dfObject)"
   ]
  }
 ],
 "metadata": {
  "kernelspec": {
   "display_name": "Python 3",
   "language": "python",
   "name": "python3"
  },
  "language_info": {
   "codemirror_mode": {
    "name": "ipython",
    "version": 3
   },
   "file_extension": ".py",
   "mimetype": "text/x-python",
   "name": "python",
   "nbconvert_exporter": "python",
   "pygments_lexer": "ipython3",
   "version": "3.6.3"
  }
 },
 "nbformat": 4,
 "nbformat_minor": 2
}
