{
 "cells": [
  {
   "cell_type": "markdown",
   "metadata": {},
   "source": [
    "# Python Data Type"
   ]
  },
  {
   "cell_type": "code",
   "execution_count": 1,
   "metadata": {},
   "outputs": [
    {
     "name": "stdout",
     "output_type": "stream",
     "text": [
      "<class 'int'>\n"
     ]
    }
   ],
   "source": [
    "a=100;\n",
    "print(type(a))"
   ]
  },
  {
   "cell_type": "code",
   "execution_count": 2,
   "metadata": {},
   "outputs": [
    {
     "name": "stdout",
     "output_type": "stream",
     "text": [
      "8.771929824561402\n",
      "<class 'float'>\n"
     ]
    }
   ],
   "source": [
    "### Type cast happen automatically\n",
    "a=a/11.4\n",
    "print(a)\n",
    "print(type(a))"
   ]
  },
  {
   "cell_type": "code",
   "execution_count": 3,
   "metadata": {},
   "outputs": [
    {
     "name": "stdout",
     "output_type": "stream",
     "text": [
      "False False\n",
      "<class 'bool'> <class 'bool'>\n"
     ]
    }
   ],
   "source": [
    "### Defining Boolean\n",
    "a=bool()\n",
    "b=False\n",
    "print(a,b)\n",
    "print(type(a),type(b))"
   ]
  },
  {
   "cell_type": "code",
   "execution_count": 4,
   "metadata": {},
   "outputs": [
    {
     "name": "stdout",
     "output_type": "stream",
     "text": [
      "My Name Is Joe\n",
      "MY NAME IS JOE\n",
      "my name is joe and I'm BLEESED\n"
     ]
    }
   ],
   "source": [
    "### String and some basic util\n",
    "a=\"my name is joe\"\n",
    "print(a.title())\n",
    "print(a.swapcase())\n",
    "print(a+\" and I'm \"+\"bleesed\".swapcase())"
   ]
  },
  {
   "cell_type": "code",
   "execution_count": 26,
   "metadata": {},
   "outputs": [
    {
     "name": "stdout",
     "output_type": "stream",
     "text": [
      "[3, 4, 7]\n",
      "[3, 4]\n",
      "[1, 2, 3, 4]\n",
      "[1, 2, 3, 4, 7, 4, 7, 22]\n",
      "8\n",
      "<class 'list'>\n",
      "[[1, 2, 3, 4, 7], 777, 12.212, 'Jesus']\n",
      "[1, 2, 3, 4, 7]\n",
      "777\n",
      "12.212\n",
      "Jesus\n"
     ]
    },
    {
     "data": {
      "text/plain": [
       "[None, None, None, None]"
      ]
     },
     "execution_count": 26,
     "metadata": {},
     "output_type": "execute_result"
    }
   ],
   "source": [
    "a=[1,2,3,4,7]\n",
    "print(a[2:])\n",
    "print(a[2:4])\n",
    "print(a[:4])\n",
    " \n",
    "#creation of 3rd list by other list\n",
    "b=a+a[3:]\n",
    "b.append(22)\n",
    "print(b);\n",
    "print(len(b))\n",
    "print(type(b))\n",
    "\n",
    "#hetrogineous list\n",
    "het_list=[a,777,12.212,\"Jesus\"]\n",
    "print(het_list)\n",
    "[print(num) for num in het_list]"
   ]
  },
  {
   "cell_type": "markdown",
   "metadata": {},
   "source": [
    "##### Extracting from List, Tuple, Dictonary"
   ]
  },
  {
   "cell_type": "code",
   "execution_count": 6,
   "metadata": {},
   "outputs": [
    {
     "name": "stdout",
     "output_type": "stream",
     "text": [
      "1\n",
      "2\n",
      "3\n",
      "4\n",
      "7\n",
      "[None, None, None, None, None]\n",
      "777\n",
      "None\n",
      "12.212\n",
      "None\n",
      "Jesus\n",
      "None\n"
     ]
    },
    {
     "data": {
      "text/plain": [
       "[None, None, None, None]"
      ]
     },
     "execution_count": 6,
     "metadata": {},
     "output_type": "execute_result"
    }
   ],
   "source": [
    "def extract(lst):\n",
    "    print([print(val) for val in lst] if  type(lst) is list else print(lst))\n",
    "\n",
    "[extract(num) for num in het_list]"
   ]
  },
  {
   "cell_type": "code",
   "execution_count": 7,
   "metadata": {},
   "outputs": [],
   "source": [
    "##NOTE every time append execute it add that value to that end\n",
    "het_list.append(tuple([55,66,77,88]))\n",
    "het_list.append(set([55,55,77,77]))"
   ]
  },
  {
   "cell_type": "code",
   "execution_count": 8,
   "metadata": {},
   "outputs": [
    {
     "name": "stdout",
     "output_type": "stream",
     "text": [
      "[[1, 2, 3, 4, 7], 777, 12.212, 'Jesus', (55, 66, 77, 88), {77, 55}]\n",
      "1\n",
      "2\n",
      "3\n",
      "4\n",
      "7\n",
      "777\n",
      "12.212\n",
      "Jesus\n",
      "55\n",
      "66\n",
      "77\n",
      "88\n",
      "77\n",
      "55\n"
     ]
    },
    {
     "data": {
      "text/plain": [
       "[[None, None, None, None, None],\n",
       " None,\n",
       " None,\n",
       " None,\n",
       " [None, None, None, None],\n",
       " [None, None]]"
      ]
     },
     "execution_count": 8,
     "metadata": {},
     "output_type": "execute_result"
    }
   ],
   "source": [
    "print(het_list)\n",
    "[[print(val) for val in lst] if type(lst) is list or type(lst) is tuple or type(lst) is set else print(lst) for lst in het_list]"
   ]
  },
  {
   "cell_type": "code",
   "execution_count": 9,
   "metadata": {},
   "outputs": [],
   "source": [
    "## Dictionary in python\n",
    "dic={\"a\":121,\"b\":123}\n",
    "dic[\"m\"]=99\n",
    "het_list.append(dic)"
   ]
  },
  {
   "cell_type": "code",
   "execution_count": 10,
   "metadata": {},
   "outputs": [
    {
     "name": "stdout",
     "output_type": "stream",
     "text": [
      "[[1, 2, 3, 4, 7], 777, 12.212, 'Jesus', (55, 66, 77, 88), {77, 55}, {'a': 121, 'b': 123, 'm': 99}]\n"
     ]
    }
   ],
   "source": [
    "print(het_list)"
   ]
  },
  {
   "cell_type": "code",
   "execution_count": 25,
   "metadata": {},
   "outputs": [
    {
     "name": "stdout",
     "output_type": "stream",
     "text": [
      "[1, 2, 3, 4, 7]\n",
      "777\n",
      "12.212\n",
      "Jesus\n",
      "(55, 66, 77, 88)\n",
      "{77, 55}\n",
      "a 121\n",
      "b 123\n",
      "m 99\n"
     ]
    }
   ],
   "source": [
    "## extract value from Dictionary\n",
    "def ext(lst):\n",
    "    [[print(key,val) for key,val in lst.items()] if type(lst) is dict else print(lst) for lst in het_list]\n",
    "ext(het_list)"
   ]
  }
 ],
 "metadata": {
  "kernelspec": {
   "display_name": "Python 3",
   "language": "python",
   "name": "python3"
  },
  "language_info": {
   "codemirror_mode": {
    "name": "ipython",
    "version": 3
   },
   "file_extension": ".py",
   "mimetype": "text/x-python",
   "name": "python",
   "nbconvert_exporter": "python",
   "pygments_lexer": "ipython3",
   "version": "3.6.3"
  }
 },
 "nbformat": 4,
 "nbformat_minor": 2
}
