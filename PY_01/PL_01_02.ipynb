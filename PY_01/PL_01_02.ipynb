{
 "cells": [
  {
   "cell_type": "markdown",
   "metadata": {},
   "source": [
    "# numpy  and Pandas"
   ]
  },
  {
   "cell_type": "code",
   "execution_count": 1,
   "metadata": {
    "scrolled": true
   },
   "outputs": [
    {
     "name": "stdout",
     "output_type": "stream",
     "text": [
      "[1 2 3 4 5]\n",
      "<class 'numpy.ndarray'>\n",
      "[[ 1  2  3 56  8]\n",
      " [ 1  8 65  4  3]]\n",
      "(2, 5)\n",
      "[[ 1  2]\n",
      " [ 3 56]\n",
      " [ 8  1]\n",
      " [ 8 65]\n",
      " [ 4  3]]\n",
      "[[ 1  3  8  8  4]\n",
      " [ 2 56  1 65  3]]\n"
     ]
    }
   ],
   "source": [
    "import numpy as np\n",
    "a1=np.array([1,2,3,4,5])\n",
    "print(a1);\n",
    "print(type(a1));\n",
    "\n",
    "a2=np.array([[1,2,3,56,8],[1,8,65,4,3]])\n",
    "print(a2)\n",
    "print(a2.shape)\n",
    "## reshaping of an array\n",
    "a3=a2.reshape(5,2)\n",
    "print(a3)\n",
    "print(a3.transpose())"
   ]
  },
  {
   "cell_type": "code",
   "execution_count": 2,
   "metadata": {},
   "outputs": [
    {
     "name": "stdout",
     "output_type": "stream",
     "text": [
      "[[ 8  7 91  7 68 14]\n",
      " [60  7 12 16 94 16]]\n",
      "[[  7  10 348  12 195  24]\n",
      " [224  12  35  63  93  48]]\n",
      "[[ 828  666]\n",
      " [1359  955]]\n",
      "[0 0 0 0 0 0 0 0 0 0 0]\n",
      "[[0 0 0 0 0]\n",
      " [0 0 0 0 0]]\n",
      "211\n",
      "1 93\n"
     ]
    }
   ],
   "source": [
    "## matrix and array operation\n",
    "n1=np.array([[1,2,4,3,65,12],[4,3,5,7,93,12]])\n",
    "n2=np.array([[7,5,87,4,3,2],[56,4,7,9,1,4]])\n",
    "print(n1+n2)\n",
    "print(n1*n2)\n",
    "print(n1.dot(n2.reshape(6,2)))\n",
    "print(np.zeros(11,dtype = int))\n",
    "print(np.zeros((2,5),dtype = int))\n",
    "print(n1.sum())\n",
    "print(n1.min(),n1.max())"
   ]
  },
  {
   "cell_type": "markdown",
   "metadata": {},
   "source": [
    "## Pandas"
   ]
  },
  {
   "cell_type": "markdown",
   "metadata": {},
   "source": [
    "##### Series- 1D labelled array can hold any data type (only index)\n",
    "##### DataFrame- 2D labelled DS . like spredsheet or SQL Table (coloumn and index)"
   ]
  },
  {
   "cell_type": "code",
   "execution_count": 3,
   "metadata": {},
   "outputs": [
    {
     "name": "stdout",
     "output_type": "stream",
     "text": [
      "**************************Data Frame***************************\n",
      "              Unnamed: 0   mpg  cyl   disp   hp  drat     wt   qsec  vs  am  \\\n",
      "0             Mazda RX4  21.0    6  160.0  110  3.90  2.620  16.46   0   1   \n",
      "1         Mazda RX4 Wag  21.0    6  160.0  110  3.90  2.875  17.02   0   1   \n",
      "2            Datsun 710  22.8    4  108.0   93  3.85  2.320  18.61   1   1   \n",
      "3        Hornet 4 Drive  21.4    6  258.0  110  3.08  3.215  19.44   1   0   \n",
      "4     Hornet Sportabout  18.7    8  360.0  175  3.15  3.440  17.02   0   0   \n",
      "5               Valiant  18.1    6  225.0  105  2.76  3.460  20.22   1   0   \n",
      "6            Duster 360  14.3    8  360.0  245  3.21  3.570  15.84   0   0   \n",
      "7             Merc 240D  24.4    4  146.7   62  3.69  3.190  20.00   1   0   \n",
      "8              Merc 230  22.8    4  140.8   95  3.92  3.150  22.90   1   0   \n",
      "9              Merc 280  19.2    6  167.6  123  3.92  3.440  18.30   1   0   \n",
      "10            Merc 280C  17.8    6  167.6  123  3.92  3.440  18.90   1   0   \n",
      "11           Merc 450SE  16.4    8  275.8  180  3.07  4.070  17.40   0   0   \n",
      "12           Merc 450SL  17.3    8  275.8  180  3.07  3.730  17.60   0   0   \n",
      "13          Merc 450SLC  15.2    8  275.8  180  3.07  3.780  18.00   0   0   \n",
      "14   Cadillac Fleetwood  10.4    8  472.0  205  2.93  5.250  17.98   0   0   \n",
      "15  Lincoln Continental  10.4    8  460.0  215  3.00  5.424  17.82   0   0   \n",
      "16    Chrysler Imperial  14.7    8  440.0  230  3.23  5.345  17.42   0   0   \n",
      "17             Fiat 128  32.4    4   78.7   66  4.08  2.200  19.47   1   1   \n",
      "18          Honda Civic  30.4    4   75.7   52  4.93  1.615  18.52   1   1   \n",
      "19       Toyota Corolla  33.9    4   71.1   65  4.22  1.835  19.90   1   1   \n",
      "20        Toyota Corona  21.5    4  120.1   97  3.70  2.465  20.01   1   0   \n",
      "21     Dodge Challenger  15.5    8  318.0  150  2.76  3.520  16.87   0   0   \n",
      "22          AMC Javelin  15.2    8  304.0  150  3.15  3.435  17.30   0   0   \n",
      "23           Camaro Z28  13.3    8  350.0  245  3.73  3.840  15.41   0   0   \n",
      "24     Pontiac Firebird  19.2    8  400.0  175  3.08  3.845  17.05   0   0   \n",
      "25            Fiat X1-9  27.3    4   79.0   66  4.08  1.935  18.90   1   1   \n",
      "26        Porsche 914-2  26.0    4  120.3   91  4.43  2.140  16.70   0   1   \n",
      "27         Lotus Europa  30.4    4   95.1  113  3.77  1.513  16.90   1   1   \n",
      "28       Ford Pantera L  15.8    8  351.0  264  4.22  3.170  14.50   0   1   \n",
      "29         Ferrari Dino  19.7    6  145.0  175  3.62  2.770  15.50   0   1   \n",
      "30        Maserati Bora  15.0    8  301.0  335  3.54  3.570  14.60   0   1   \n",
      "31           Volvo 142E  21.4    4  121.0  109  4.11  2.780  18.60   1   1   \n",
      "\n",
      "    gear  carb  \n",
      "0      4     4  \n",
      "1      4     4  \n",
      "2      4     1  \n",
      "3      3     1  \n",
      "4      3     2  \n",
      "5      3     1  \n",
      "6      3     4  \n",
      "7      4     2  \n",
      "8      4     2  \n",
      "9      4     4  \n",
      "10     4     4  \n",
      "11     3     3  \n",
      "12     3     3  \n",
      "13     3     3  \n",
      "14     3     4  \n",
      "15     3     4  \n",
      "16     3     4  \n",
      "17     4     1  \n",
      "18     4     2  \n",
      "19     4     1  \n",
      "20     3     1  \n",
      "21     3     2  \n",
      "22     3     2  \n",
      "23     3     4  \n",
      "24     3     2  \n",
      "25     4     1  \n",
      "26     5     2  \n",
      "27     5     2  \n",
      "28     5     4  \n",
      "29     5     6  \n",
      "30     5     8  \n",
      "31     4     2   \n",
      "\n",
      "\n",
      "************************Data Frame shape***********************\n",
      "\n",
      " (32, 12) \n",
      "\n",
      "\n",
      "************************Data Frame column**********************\n",
      "\n",
      " Index(['Unnamed: 0', 'mpg', 'cyl', 'disp', 'hp', 'drat', 'wt', 'qsec', 'vs',\n",
      "       'am', 'gear', 'carb'],\n",
      "      dtype='object') \n",
      "\n",
      "\n",
      "************************Data Frame head************************\n",
      "\n",
      "        Unnamed: 0   mpg  cyl   disp   hp  drat     wt   qsec  vs  am  gear  \\\n",
      "0       Mazda RX4  21.0    6  160.0  110  3.90  2.620  16.46   0   1     4   \n",
      "1   Mazda RX4 Wag  21.0    6  160.0  110  3.90  2.875  17.02   0   1     4   \n",
      "2      Datsun 710  22.8    4  108.0   93  3.85  2.320  18.61   1   1     4   \n",
      "3  Hornet 4 Drive  21.4    6  258.0  110  3.08  3.215  19.44   1   0     3   \n",
      "\n",
      "   carb  \n",
      "0     4  \n",
      "1     4  \n",
      "2     1  \n",
      "3     1   \n",
      "\n",
      "\n",
      "************************Data Frame tail************************\n",
      "\n",
      "         Unnamed: 0   mpg  cyl   disp   hp  drat    wt  qsec  vs  am  gear  \\\n",
      "28  Ford Pantera L  15.8    8  351.0  264  4.22  3.17  14.5   0   1     5   \n",
      "29    Ferrari Dino  19.7    6  145.0  175  3.62  2.77  15.5   0   1     5   \n",
      "30   Maserati Bora  15.0    8  301.0  335  3.54  3.57  14.6   0   1     5   \n",
      "31      Volvo 142E  21.4    4  121.0  109  4.11  2.78  18.6   1   1     4   \n",
      "\n",
      "    carb  \n",
      "28     4  \n",
      "29     6  \n",
      "30     8  \n",
      "31     2   \n",
      "\n",
      "\n",
      "************************Data Frame info************************\n",
      "\n",
      "\n",
      "<class 'pandas.core.frame.DataFrame'>\n",
      "RangeIndex: 32 entries, 0 to 31\n",
      "Data columns (total 12 columns):\n",
      "Unnamed: 0    32 non-null object\n",
      "mpg           32 non-null float64\n",
      "cyl           32 non-null int64\n",
      "disp          32 non-null float64\n",
      "hp            32 non-null int64\n",
      "drat          32 non-null float64\n",
      "wt            32 non-null float64\n",
      "qsec          32 non-null float64\n",
      "vs            32 non-null int64\n",
      "am            32 non-null int64\n",
      "gear          32 non-null int64\n",
      "carb          32 non-null int64\n",
      "dtypes: float64(5), int64(6), object(1)\n",
      "memory usage: 3.1+ KB\n",
      "None \n",
      "\n",
      "\n",
      "************************Data Frame Describe************************\n",
      "\n",
      "              mpg        cyl        disp          hp       drat         wt  \\\n",
      "count  32.000000  32.000000   32.000000   32.000000  32.000000  32.000000   \n",
      "mean   20.090625   6.187500  230.721875  146.687500   3.596563   3.217250   \n",
      "std     6.026948   1.785922  123.938694   68.562868   0.534679   0.978457   \n",
      "min    10.400000   4.000000   71.100000   52.000000   2.760000   1.513000   \n",
      "25%    15.425000   4.000000  120.825000   96.500000   3.080000   2.581250   \n",
      "50%    19.200000   6.000000  196.300000  123.000000   3.695000   3.325000   \n",
      "75%    22.800000   8.000000  326.000000  180.000000   3.920000   3.610000   \n",
      "max    33.900000   8.000000  472.000000  335.000000   4.930000   5.424000   \n",
      "\n",
      "            qsec         vs         am       gear     carb  \n",
      "count  32.000000  32.000000  32.000000  32.000000  32.0000  \n",
      "mean   17.848750   0.437500   0.406250   3.687500   2.8125  \n",
      "std     1.786943   0.504016   0.498991   0.737804   1.6152  \n",
      "min    14.500000   0.000000   0.000000   3.000000   1.0000  \n",
      "25%    16.892500   0.000000   0.000000   3.000000   2.0000  \n",
      "50%    17.710000   0.000000   0.000000   4.000000   2.0000  \n",
      "75%    18.900000   1.000000   1.000000   4.000000   4.0000  \n",
      "max    22.900000   1.000000   1.000000   5.000000   8.0000   \n",
      "\n",
      "\n"
     ]
    }
   ],
   "source": [
    "import pandas as pd\n",
    "\n",
    "df=pd.read_csv(\"../DS/mtcars.csv\")\n",
    "print(\"**************************Data Frame***************************\\n\",df,\"\\n\\n\")\n",
    "print(\"************************Data Frame shape***********************\\n\\n\",df.shape,\"\\n\\n\")\n",
    "print(\"************************Data Frame column**********************\\n\\n\",df.columns,\"\\n\\n\")\n",
    "print(\"************************Data Frame head************************\\n\\n\",df.head(4),\"\\n\\n\")\n",
    "print(\"************************Data Frame tail************************\\n\\n\",df.tail(4),\"\\n\\n\")\n",
    "print(\"************************Data Frame info************************\\n\\n\")\n",
    "print(df.info(),\"\\n\\n\")\n",
    "print(\"************************Data Frame Describe************************\\n\\n\",df.describe(),\"\\n\\n\")\n"
   ]
  },
  {
   "cell_type": "code",
   "execution_count": 4,
   "metadata": {},
   "outputs": [
    {
     "name": "stdout",
     "output_type": "stream",
     "text": [
      "   gear   qsec\n",
      "0     4  16.46\n",
      "1     4  17.02 \n",
      "\n",
      "\n",
      "      Unnamed: 0   mpg  cyl   disp   hp  drat     wt   qsec  vs  am  gear  \\\n",
      "1  Mazda RX4 Wag  21.0    6  160.0  110   3.9  2.875  17.02   0   1     4   \n",
      "\n",
      "   carb  \n",
      "1     4   \n",
      "\n",
      "\n",
      "      Unnamed: 0   mpg  cyl   disp\n",
      "1  Mazda RX4 Wag  21.0    6  160.0\n",
      "2     Datsun 710  22.8    4  108.0 \n",
      "\n",
      "\n",
      "      Unnamed: 0  cyl   hp\n",
      "0      Mazda RX4    6  110\n",
      "1  Mazda RX4 Wag    6  110\n",
      "2     Datsun 710    4   93 \n",
      "\n",
      "\n"
     ]
    }
   ],
   "source": [
    "### Accessing Coloumn\n",
    "\n",
    "#####Accessing by name\n",
    "print(df[[\"gear\",\"qsec\"]].head(2),\"\\n\\n\")\n",
    "\n",
    "\n",
    "#####Accessing by index\n",
    "print(df.iloc[1:2],\"\\n\\n\")\n",
    "print(df.iloc[1:3,0:4],\"\\n\\n\")\n",
    "print(df.iloc[:3,[0,2,4]],\"\\n\\n\")"
   ]
  },
  {
   "cell_type": "code",
   "execution_count": 5,
   "metadata": {},
   "outputs": [
    {
     "name": "stdout",
     "output_type": "stream",
     "text": [
      "   col12\n",
      "0      1\n",
      "1      1\n",
      "   col12  new cell\n",
      "0      1     15.72\n",
      "1      1     17.25\n",
      "   new cell\n",
      "0     15.72\n",
      "1     17.25\n"
     ]
    }
   ],
   "source": [
    "### creating and updating column\n",
    "df['col12']=1 # creating coloumn as col12 doesnt exist else update\n",
    "print(df.iloc[:2,12:])\n",
    "\n",
    "df['new cell']=df['wt']*df['cyl']\n",
    "print(df.iloc[:2,12:])\n",
    "\n",
    "### deleting column \n",
    "del df['col12']\n",
    "print(df.iloc[:2,12:])"
   ]
  },
  {
   "cell_type": "code",
   "execution_count": 6,
   "metadata": {},
   "outputs": [],
   "source": [
    "\n",
    "def lower_p(val):\n",
    "    return str(val).lower();"
   ]
  },
  {
   "cell_type": "code",
   "execution_count": 7,
   "metadata": {},
   "outputs": [
    {
     "name": "stdout",
     "output_type": "stream",
     "text": [
      "0        MAZDA RX4 -NEW\n",
      "1    MAZDA RX4 WAG -NEW\n",
      "Name: Car_Name, dtype: object\n",
      "0        mazda rx4\n",
      "1    mazda rx4 wag\n",
      "Name: Car_Name, dtype: object\n"
     ]
    }
   ],
   "source": [
    "### type cast\n",
    "df.columns.values[0] = \"Car_Name\"\n",
    "print(df.iloc[:2]['Car_Name'].str.upper()+\" -NEW\")\n",
    "### custom operation on each entry\n",
    "print(df.iloc[:2]['Car_Name'].apply(lower_p))"
   ]
  },
  {
   "cell_type": "code",
   "execution_count": 8,
   "metadata": {},
   "outputs": [
    {
     "name": "stdout",
     "output_type": "stream",
     "text": [
      "          Car_Name   mpg  cyl   disp   hp  drat     wt   qsec  vs  am  gear  \\\n",
      "2       Datsun 710  22.8    4  108.0   93  3.85  2.320  18.61   1   1     4   \n",
      "17        Fiat 128  32.4    4   78.7   66  4.08  2.200  19.47   1   1     4   \n",
      "18     Honda Civic  30.4    4   75.7   52  4.93  1.615  18.52   1   1     4   \n",
      "19  Toyota Corolla  33.9    4   71.1   65  4.22  1.835  19.90   1   1     4   \n",
      "25       Fiat X1-9  27.3    4   79.0   66  4.08  1.935  18.90   1   1     4   \n",
      "27    Lotus Europa  30.4    4   95.1  113  3.77  1.513  16.90   1   1     5   \n",
      "31      Volvo 142E  21.4    4  121.0  109  4.11  2.780  18.60   1   1     4   \n",
      "\n",
      "    carb  new cell  \n",
      "2      1     9.280  \n",
      "17     1     8.800  \n",
      "18     2     6.460  \n",
      "19     1     7.340  \n",
      "25     1     7.740  \n",
      "27     2     6.052  \n",
      "31     2    11.120  \n",
      "          Car_Name   mpg  cyl   disp   hp  drat     wt   qsec  vs  am  gear  \\\n",
      "27    Lotus Europa  30.4    4   95.1  113  3.77  1.513  16.90   1   1     5   \n",
      "18     Honda Civic  30.4    4   75.7   52  4.93  1.615  18.52   1   1     4   \n",
      "19  Toyota Corolla  33.9    4   71.1   65  4.22  1.835  19.90   1   1     4   \n",
      "17        Fiat 128  32.4    4   78.7   66  4.08  2.200  19.47   1   1     4   \n",
      "25       Fiat X1-9  27.3    4   79.0   66  4.08  1.935  18.90   1   1     4   \n",
      "2       Datsun 710  22.8    4  108.0   93  3.85  2.320  18.61   1   1     4   \n",
      "31      Volvo 142E  21.4    4  121.0  109  4.11  2.780  18.60   1   1     4   \n",
      "\n",
      "    carb  new cell  \n",
      "27     2     6.052  \n",
      "18     2     6.460  \n",
      "19     1     7.340  \n",
      "17     1     8.800  \n",
      "25     1     7.740  \n",
      "2      1     9.280  \n",
      "31     2    11.120  \n",
      "[4 5]\n"
     ]
    }
   ],
   "source": [
    "### Filtering \n",
    "df_new= df[(df['gear'] >= 4) & (df['am']>=1) & (df['vs']>=1)]\n",
    "print(df_new)\n",
    "#### Ascending column wise\n",
    "print(df_new.sort_values([\"gear\",\"hp\"],ascending=[0,1]))\n",
    "#### unique value in the column\n",
    "print(df_new[0:][\"gear\"].unique())"
   ]
  },
  {
   "cell_type": "code",
   "execution_count": 9,
   "metadata": {},
   "outputs": [
    {
     "name": "stdout",
     "output_type": "stream",
     "text": [
      "   gear   hp    mpg\n",
      "0     3   97  21.50\n",
      "1     3  105  18.10\n",
      "2     3  110  21.40\n",
      "3     3  150  15.35\n",
      "4     3  175  18.95\n",
      "5     3  180  16.30\n",
      "6     3  205  10.40\n",
      "7     3  215  10.40\n"
     ]
    }
   ],
   "source": [
    "#### group by\n",
    "df_g=df.groupby(['gear','hp'],as_index =False)[\"mpg\"].mean()\n",
    "print(df_g[:8])"
   ]
  }
 ],
 "metadata": {
  "kernelspec": {
   "display_name": "Python 3",
   "language": "python",
   "name": "python3"
  },
  "language_info": {
   "codemirror_mode": {
    "name": "ipython",
    "version": 3
   },
   "file_extension": ".py",
   "mimetype": "text/x-python",
   "name": "python",
   "nbconvert_exporter": "python",
   "pygments_lexer": "ipython3",
   "version": "3.6.3"
  }
 },
 "nbformat": 4,
 "nbformat_minor": 2
}
